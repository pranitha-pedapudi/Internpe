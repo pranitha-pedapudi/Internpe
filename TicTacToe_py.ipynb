{
  "cells": [
    {
      "cell_type": "markdown",
      "metadata": {
        "id": "view-in-github",
        "colab_type": "text"
      },
      "source": [
        "<a href=\"https://colab.research.google.com/github/pranitha-pedapudi/Internpe-3/blob/main/TicTacToe_py.ipynb\" target=\"_parent\"><img src=\"https://colab.research.google.com/assets/colab-badge.svg\" alt=\"Open In Colab\"/></a>"
      ]
    },
    {
      "cell_type": "code",
      "source": [
        "board = {1: ' ', 2: ' ', 3: ' ',\n",
        "         4: ' ', 5: ' ', 6: ' ',\n",
        "         7: ' ', 8: ' ', 9: ' '}\n",
        "player = 'O'\n",
        "bot = 'X'\n",
        "\n",
        "def printBoard(board):\n",
        "    print(board[1] + '|' + board[2] + '|' + board[3])\n",
        "    print('-+-+-')\n",
        "    print(board[4] + '|' + board[5] + '|' + board[6])\n",
        "    print('-+-+-')\n",
        "    print(board[7] + '|' + board[8] + '|' + board[9])\n",
        "    print(\"\\n\")\n",
        "\n",
        "\n",
        "def spaceIsFree(position):\n",
        "    if board[position] == ' ':\n",
        "        return True\n",
        "    else:\n",
        "        return False\n",
        "\n",
        "\n",
        "def insertLetter(letter, position):\n",
        "    if spaceIsFree(position):\n",
        "        board[position] = letter\n",
        "        printBoard(board)\n",
        "        if (checkDraw()):\n",
        "            print(\"Draw!\")\n",
        "            exit()\n",
        "        if checkForWin():\n",
        "            if letter == 'X':\n",
        "                print(\"Bot wins!\")\n",
        "                exit()\n",
        "            else:\n",
        "                print(\"Player wins!\")\n",
        "                exit()\n",
        "\n",
        "        return\n",
        "\n",
        "\n",
        "    else:\n",
        "        print(\"Can't insert there!\")\n",
        "        position = int(input(\"Please enter new position:  \"))\n",
        "        insertLetter(letter, position)\n",
        "        return\n",
        "\n",
        "\n",
        "def checkForWin():\n",
        "    if (board[1] == board[2] and board[1] == board[3] and board[1] != ' '):\n",
        "        return True\n",
        "    elif (board[4] == board[5] and board[4] == board[6] and board[4] != ' '):\n",
        "        return True\n",
        "    elif (board[7] == board[8] and board[7] == board[9] and board[7] != ' '):\n",
        "        return True\n",
        "    elif (board[1] == board[4] and board[1] == board[7] and board[1] != ' '):\n",
        "        return True\n",
        "    elif (board[2] == board[5] and board[2] == board[8] and board[2] != ' '):\n",
        "        return True\n",
        "    elif (board[3] == board[6] and board[3] == board[9] and board[3] != ' '):\n",
        "        return True\n",
        "    elif (board[1] == board[5] and board[1] == board[9] and board[1] != ' '):\n",
        "        return True\n",
        "    elif (board[7] == board[5] and board[7] == board[3] and board[7] != ' '):\n",
        "        return True\n",
        "    else:\n",
        "        return False\n",
        "\n",
        "\n",
        "def checkDraw():\n",
        "    for key in board.keys():\n",
        "        if (board[key] == ' '):\n",
        "            return False\n",
        "    return True\n",
        "\n",
        "\n",
        "def playerMove():\n",
        "    position = int(input(\"Enter the position for 'O':  \"))\n",
        "    insertLetter(player, position)\n",
        "    return\n",
        "\n",
        "\n",
        "def compMove():\n",
        "    position = int(input(\"Enter the position for 'X':  \"))\n",
        "    insertLetter(bot, position)\n",
        "    return\n",
        "\n",
        "printBoard(board)\n",
        "\n",
        "\n",
        "\n",
        "\n",
        "while not checkForWin():\n",
        "    compMove()\n",
        "    playerMove()"
      ],
      "metadata": {
        "id": "bR84-Th1Cwwq"
      },
      "execution_count": null,
      "outputs": []
    },
    {
      "cell_type": "code",
      "source": [],
      "metadata": {
        "id": "DF4N0GzBCwjH"
      },
      "execution_count": null,
      "outputs": []
    },
    {
      "cell_type": "code",
      "source": [],
      "metadata": {
        "id": "FNVf2MnlCwVV"
      },
      "execution_count": null,
      "outputs": []
    }
  ],
  "metadata": {
    "colab": {
      "provenance": [],
      "include_colab_link": true
    },
    "kernelspec": {
      "display_name": "Python 3",
      "name": "python3"
    }
  },
  "nbformat": 4,
  "nbformat_minor": 0
}